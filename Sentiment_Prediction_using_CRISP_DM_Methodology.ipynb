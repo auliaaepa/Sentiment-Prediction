{
  "cells": [
    {
      "cell_type": "markdown",
      "source": [
        "[![Open In Colab](https://colab.research.google.com/assets/colab-badge.svg)](https://colab.research.google.com/drive/1hq8C0Ni0QdGMdLl0PHvdNlf3TJYyXpfV?usp=sharing)"
      ],
      "metadata": {
        "id": "D83C1JLcheg8"
      }
    },
    {
      "cell_type": "markdown",
      "metadata": {
        "id": "goUoyn3DAYCm"
      },
      "source": [
        "# CRISP-DM [Amazon Product Reviews](https://www.kaggle.com/datasets/arhamrumi/amazon-product-reviews)"
      ]
    },
    {
      "cell_type": "markdown",
      "metadata": {
        "id": "QRan47QG07Aj"
      },
      "source": [
        "## 1. Bussiness Understanding"
      ]
    },
    {
      "cell_type": "markdown",
      "metadata": {
        "id": "7QzTIbD49myt"
      },
      "source": [
        "* Find positive/negative sentiment on Amazon Product Reviews \n",
        "* Build model to predict sentiment"
      ]
    },
    {
      "cell_type": "markdown",
      "metadata": {
        "id": "bz0rXm3h18XF"
      },
      "source": [
        "## 2. Data Understanding"
      ]
    },
    {
      "cell_type": "code",
      "execution_count": null,
      "metadata": {
        "execution": {
          "iopub.execute_input": "2022-06-09T17:36:28.393426Z",
          "iopub.status.busy": "2022-06-09T17:36:28.393144Z",
          "iopub.status.idle": "2022-06-09T17:37:26.473292Z",
          "shell.execute_reply": "2022-06-09T17:37:26.472042Z",
          "shell.execute_reply.started": "2022-06-09T17:36:28.393392Z"
        },
        "id": "RBlNtgSqBASf",
        "tags": [],
        "colab": {
          "referenced_widgets": [
            "2ae8ca9b8a3d4371a6e2ec592701602f",
            ""
          ]
        },
        "outputId": "7fd5743d-e202-451c-a48e-a6f97334d141"
      },
      "outputs": [
        {
          "data": {
            "application/vnd.jupyter.widget-view+json": {
              "model_id": "2ae8ca9b8a3d4371a6e2ec592701602f",
              "version_major": 2,
              "version_minor": 0
            },
            "text/plain": [
              "VBox()"
            ]
          },
          "metadata": {},
          "output_type": "display_data"
        },
        {
          "name": "stdout",
          "output_type": "stream",
          "text": [
            "Starting Spark application\n"
          ]
        },
        {
          "data": {
            "text/html": [
              "<table>\n",
              "<tr><th>ID</th><th>YARN Application ID</th><th>Kind</th><th>State</th><th>Spark UI</th><th>Driver log</th><th>User</th><th>Current session?</th></tr><tr><td>1</td><td>application_1654795038779_0002</td><td>pyspark</td><td>idle</td><td><a target=\"_blank\" href=\"http://ip-172-31-26-229.ec2.internal:20888/proxy/application_1654795038779_0002/\" class=\"emr-proxy-link\" emr-resource=\"j-1X13XLMP05CW\n",
              "\" application-id=\"application_1654795038779_0002\">Link</a></td><td><a target=\"_blank\" href=\"http://ip-172-31-29-150.ec2.internal:8042/node/containerlogs/container_1654795038779_0002_01_000001/livy\" >Link</a></td><td>None</td><td>✔</td></tr></table>"
            ],
            "text/plain": [
              "<IPython.core.display.HTML object>"
            ]
          },
          "metadata": {},
          "output_type": "display_data"
        },
        {
          "data": {
            "application/vnd.jupyter.widget-view+json": {
              "model_id": "",
              "version_major": 2,
              "version_minor": 0
            },
            "text/plain": [
              "FloatProgress(value=0.0, bar_style='info', description='Progress:', layout=Layout(height='25px', width='50%'),…"
            ]
          },
          "metadata": {},
          "output_type": "display_data"
        },
        {
          "name": "stdout",
          "output_type": "stream",
          "text": [
            "SparkSession available as 'spark'.\n"
          ]
        },
        {
          "data": {
            "application/vnd.jupyter.widget-view+json": {
              "model_id": "",
              "version_major": 2,
              "version_minor": 0
            },
            "text/plain": [
              "FloatProgress(value=0.0, bar_style='info', description='Progress:', layout=Layout(height='25px', width='50%'),…"
            ]
          },
          "metadata": {},
          "output_type": "display_data"
        }
      ],
      "source": [
        "from pyspark.sql.functions import *\n",
        "from pyspark.ml.feature import *\n",
        "from pyspark.ml import Pipeline\n",
        "from pyspark.ml.classification import *\n",
        "from pyspark.ml.tuning import *\n",
        "from pyspark.ml.evaluation import *\n",
        "import re"
      ]
    },
    {
      "cell_type": "code",
      "execution_count": null,
      "metadata": {
        "colab": {
          "base_uri": "https://localhost:8080/",
          "referenced_widgets": [
            "9314cd3356bc4d9eb7827fbc69211533",
            ""
          ]
        },
        "execution": {
          "iopub.execute_input": "2022-06-09T17:37:53.139274Z",
          "iopub.status.busy": "2022-06-09T17:37:53.138990Z",
          "iopub.status.idle": "2022-06-09T17:37:53.262369Z",
          "shell.execute_reply": "2022-06-09T17:37:53.260639Z",
          "shell.execute_reply.started": "2022-06-09T17:37:53.139240Z"
        },
        "id": "ah1VPXGmABfv",
        "outputId": "dcffa4da-b2a9-4928-de0b-a466a6d2eac0"
      },
      "outputs": [
        {
          "data": {
            "application/vnd.jupyter.widget-view+json": {
              "model_id": "9314cd3356bc4d9eb7827fbc69211533",
              "version_major": 2,
              "version_minor": 0
            },
            "text/plain": [
              "VBox()"
            ]
          },
          "metadata": {},
          "output_type": "display_data"
        },
        {
          "data": {
            "application/vnd.jupyter.widget-view+json": {
              "model_id": "",
              "version_major": 2,
              "version_minor": 0
            },
            "text/plain": [
              "FloatProgress(value=0.0, bar_style='info', description='Progress:', layout=Layout(height='25px', width='50%'),…"
            ]
          },
          "metadata": {},
          "output_type": "display_data"
        }
      ],
      "source": [
        "DATASET_PATH = \"s3://aulia-eas/data-source/Reviews.csv\"\n",
        "MODEL_PATH = \"s3://aulia-eas/data-output/model\"\n",
        "RESULT_PATH = \"s3://aulia-eas/data-output/result\""
      ]
    },
    {
      "cell_type": "code",
      "execution_count": null,
      "metadata": {
        "colab": {
          "base_uri": "https://localhost:8080/",
          "referenced_widgets": [
            "2afe6fb419304372a56a3e332baaab42",
            ""
          ]
        },
        "execution": {
          "iopub.execute_input": "2022-06-09T17:38:10.530348Z",
          "iopub.status.busy": "2022-06-09T17:38:10.530066Z"
        },
        "id": "d22qkwe4AykL",
        "outputId": "5e367dcd-203a-42ee-8f4b-4fbf28fedf8f",
        "tags": []
      },
      "outputs": [
        {
          "data": {
            "application/vnd.jupyter.widget-view+json": {
              "model_id": "2afe6fb419304372a56a3e332baaab42",
              "version_major": 2,
              "version_minor": 0
            },
            "text/plain": [
              "VBox()"
            ]
          },
          "metadata": {},
          "output_type": "display_data"
        },
        {
          "data": {
            "application/vnd.jupyter.widget-view+json": {
              "model_id": "",
              "version_major": 2,
              "version_minor": 0
            },
            "text/plain": [
              "FloatProgress(value=0.0, bar_style='info', description='Progress:', layout=Layout(height='25px', width='50%'),…"
            ]
          },
          "metadata": {},
          "output_type": "display_data"
        },
        {
          "name": "stdout",
          "output_type": "stream",
          "text": [
            "+---+----------+--------------+-------------------------------+--------------------+----------------------+-----+----------+------------------------------------------------------------+-----------------------------------------------------------------------------------------------------------------------------------------------------------------------------------------------------------------------------------------------------------------------------------------------------------------------------------------------------------------------------------------------------------------------------------------------------------------------------------------------------------------------------------------------------------------------------------------------------------------------------------------------------------------------------------------------------------------------------------------------------------------------------------------------------------+\n",
            "|Id |ProductId |UserId        |ProfileName                    |HelpfulnessNumerator|HelpfulnessDenominator|Score|Time      |Summary                                                     |Text                                                                                                                                                                                                                                                                                                                                                                                                                                                                                                                                                                                                                                                                                                                                                                                                       |\n",
            "+---+----------+--------------+-------------------------------+--------------------+----------------------+-----+----------+------------------------------------------------------------+-----------------------------------------------------------------------------------------------------------------------------------------------------------------------------------------------------------------------------------------------------------------------------------------------------------------------------------------------------------------------------------------------------------------------------------------------------------------------------------------------------------------------------------------------------------------------------------------------------------------------------------------------------------------------------------------------------------------------------------------------------------------------------------------------------------+\n",
            "|1  |B001E4KFG0|A3SGXH7AUHU8GW|delmartian                     |1                   |1                     |5    |1303862400|Good Quality Dog Food                                       |I have bought several of the Vitality canned dog food products and have found them all to be of good quality. The product looks more like a stew than a processed meat and it smells better. My Labrador is finicky and she appreciates this product better than  most.                                                                                                                                                                                                                                                                                                                                                                                                                                                                                                                                    |\n",
            "|2  |B00813GRG4|A1D87F6ZCVE5NK|dll pa                         |0                   |0                     |1    |1346976000|Not as Advertised                                           |Product arrived labeled as Jumbo Salted Peanuts...the peanuts were actually small sized unsalted. Not sure if this was an error or if the vendor intended to represent the product as \"Jumbo\".                                                                                                                                                                                                                                                                                                                                                                                                                                                                                                                                                                                                             |\n",
            "|3  |B000LQOCH0|ABXLMWJIXXAIN |Natalia Corres \"Natalia Corres\"|1                   |1                     |4    |1219017600|\"Delight\" says it all                                       |This is a confection that has been around a few centuries.  It is a light, pillowy citrus gelatin with nuts - in this case Filberts. And it is cut into tiny squares and then liberally coated with powdered sugar.  And it is a tiny mouthful of heaven.  Not too chewy, and very flavorful.  I highly recommend this yummy treat.  If you are familiar with the story of C.S. Lewis' \"The Lion, The Witch, and The Wardrobe\" - this is the treat that seduces Edmund into selling out his Brother and Sisters to the Witch.                                                                                                                                                                                                                                                                              |\n",
            "|4  |B000UA0QIQ|A395BORC6FGVXV|Karl                           |3                   |3                     |2    |1307923200|Cough Medicine                                              |If you are looking for the secret ingredient in Robitussin I believe I have found it.  I got this in addition to the Root Beer Extract I ordered (which was good) and made some cherry soda.  The flavor is very medicinal.                                                                                                                                                                                                                                                                                                                                                                                                                                                                                                                                                                                |\n",
            "|5  |B006K2ZZ7K|A1UQRSCLF8GW1T|Michael D. Bigham \"M. Wassir\"  |0                   |0                     |5    |1350777600|Great taffy                                                 |Great taffy at a great price.  There was a wide assortment of yummy taffy.  Delivery was very quick.  If your a taffy lover, this is a deal.                                                                                                                                                                                                                                                                                                                                                                                                                                                                                                                                                                                                                                                               |\n",
            "|6  |B006K2ZZ7K|ADT0SRK1MGOEU |Twoapennything                 |0                   |0                     |4    |1342051200|Nice Taffy                                                  |I got a wild hair for taffy and ordered this five pound bag. The taffy was all very enjoyable with many flavors: watermelon, root beer, melon, peppermint, grape, etc. My only complaint is there was a bit too much red/black licorice-flavored pieces (just not my particular favorites). Between me, my kids, and my husband, this lasted only two weeks! I would recommend this brand of taffy -- it was a delightful treat.                                                                                                                                                                                                                                                                                                                                                                           |\n",
            "|7  |B006K2ZZ7K|A1SP2KVKFXXRU1|David C. Sullivan              |0                   |0                     |5    |1340150400|Great!  Just as good as the expensive brands!               |This saltwater taffy had great flavors and was very soft and chewy.  Each candy was individually wrapped well.  None of the candies were stuck together, which did happen in the expensive version, Fralinger's.  Would highly recommend this candy!  I served it at a beach-themed party and everyone loved it!                                                                                                                                                                                                                                                                                                                                                                                                                                                                                           |\n",
            "|8  |B006K2ZZ7K|A3JRGQVEQN31IQ|Pamela G. Williams             |0                   |0                     |5    |1336003200|Wonderful, tasty taffy                                      |This taffy is so good.  It is very soft and chewy.  The flavors are amazing.  I would definitely recommend you buying it.  Very satisfying!!                                                                                                                                                                                                                                                                                                                                                                                                                                                                                                                                                                                                                                                               |\n",
            "|9  |B000E7L2R4|A1MZYO9TZK0BBI|R. James                       |1                   |1                     |5    |1322006400|Yay Barley                                                  |Right now I'm mostly just sprouting this so my cats can eat the grass. They love it. I rotate it around with Wheatgrass and Rye too                                                                                                                                                                                                                                                                                                                                                                                                                                                                                                                                                                                                                                                                        |\n",
            "|10 |B00171APVA|A21BT40VZCCYT4|Carol A. Reed                  |0                   |0                     |5    |1351209600|Healthy Dog Food                                            |This is a very healthy dog food. Good for their digestion. Also good for small puppies. My dog eats her required amount at every feeding.                                                                                                                                                                                                                                                                                                                                                                                                                                                                                                                                                                                                                                                                  |\n",
            "|11 |B0001PB9FE|A3HDKO7OW0QNK4|Canadian Fan                   |1                   |1                     |5    |1107820800|The Best Hot Sauce in the World                             |I don't know if it's the cactus or the tequila or just the unique combination of ingredients, but the flavour of this hot sauce makes it one of a kind!  We picked up a bottle once on a trip we were on and brought it back home with us and were totally blown away!  When we realized that we simply couldn't find it anywhere in our city we were bummed.<br /><br />Now, because of the magic of the internet, we have a case of the sauce and are ecstatic because of it.<br /><br />If you love hot sauce..I mean really love hot sauce, but don't want a sauce that tastelessly burns your throat, grab a bottle of Tequila Picante Gourmet de Inclan.  Just realize that once you taste it, you will never want to use any other sauce.<br /><br />Thank you for the personal, incredible service!|\n",
            "|12 |B0009XLVG0|A2725IB4YY9JEB|A Poeng \"SparkyGoHome\"         |4                   |4                     |5    |1282867200|My cats LOVE this \"diet\" food better than their regular food|One of my boys needed to lose some weight and the other didn't.  I put this food on the floor for the chubby guy, and the protein-rich, no by-product food up higher where only my skinny boy can jump.  The higher food sits going stale.  They both really go for this food.  And my chubby boy has been losing about an ounce a week.                                                                                                                                                                                                                                                                                                                                                                                                                                                                   |\n",
            "|13 |B0009XLVG0|A327PCT23YH90 |LT                             |1                   |1                     |1    |1339545600|My Cats Are Not Fans of the New Food                        |My cats have been happily eating Felidae Platinum for more than two years. I just got a new bag and the shape of the food is different. They tried the new food when I first put it in their bowls and now the bowls sit full and the kitties will not touch the food. I've noticed similar reviews related to formula changes in the past. Unfortunately, I now need to find a new food that my cats will eat.                                                                                                                                                                                                                                                                                                                                                                                            |\n",
            "|14 |B001GVISJM|A18ECVX2RJ7HUE|willie \"roadie\"                |2                   |2                     |4    |1288915200|fresh and greasy!                                           |good flavor! these came securely packed... they were fresh and delicious! i love these Twizzlers!                                                                                                                                                                                                                                                                                                                                                                                                                                                                                                                                                                                                                                                                                                          |\n",
            "|15 |B001GVISJM|A2MUGFV2TDQ47K|Lynrie \"Oh HELL no\"            |4                   |5                     |5    |1268352000|Strawberry Twizzlers - Yummy                                |The Strawberry Twizzlers are my guilty pleasure - yummy. Six pounds will be around for a while with my son and I.                                                                                                                                                                                                                                                                                                                                                                                                                                                                                                                                                                                                                                                                                          |\n",
            "|16 |B001GVISJM|A1CZX3CP8IKQIJ|Brian A. Lee                   |4                   |5                     |5    |1262044800|Lots of twizzlers, just what you expect.                    |My daughter loves twizzlers and this shipment of six pounds really hit the spot. It's exactly what you would expect...six packages of strawberry twizzlers.                                                                                                                                                                                                                                                                                                                                                                                                                                                                                                                                                                                                                                                |\n",
            "|17 |B001GVISJM|A3KLWF6WQ5BNYO|Erica Neathery                 |0                   |0                     |2    |1348099200|poor taste                                                  |I love eating them and they are good for watching TV and looking at movies! It is not too sweet. I like to transfer them to a zip lock baggie so they stay fresh so I can take my time eating them.                                                                                                                                                                                                                                                                                                                                                                                                                                                                                                                                                                                                        |\n",
            "|18 |B001GVISJM|AFKW14U97Z6QO |Becca                          |0                   |0                     |5    |1345075200|Love it!                                                    |I am very satisfied with my Twizzler purchase.  I shared these with others and we have all enjoyed them.  I will definitely be ordering more.                                                                                                                                                                                                                                                                                                                                                                                                                                                                                                                                                                                                                                                              |\n",
            "|19 |B001GVISJM|A2A9X58G2GTBLP|Wolfee1                        |0                   |0                     |5    |1324598400|GREAT SWEET CANDY!                                          |Twizzlers, Strawberry my childhood favorite candy, made in Lancaster Pennsylvania by Y & S Candies, Inc. one of the oldest confectionery Firms in the United States, now a Subsidiary of the Hershey Company, the Company was established in 1845 as Young and Smylie, they also make Apple Licorice Twists, Green Color and Blue Raspberry Licorice Twists, I like them all<br /><br />I keep it in a dry cool place because is not recommended it to put it in the fridge. According to the Guinness Book of Records, the longest Licorice Twist ever made measured 1.200 Feet (370 M) and weighted 100 Pounds (45 Kg) and was made by Y & S Candies, Inc. This Record-Breaking Twist became a Guinness World Record on July 19, 1998. This Product is Kosher! Thank You                                 |\n",
            "|20 |B001GVISJM|A3IV7CL2C13K2U|Greg                           |0                   |0                     |5    |1318032000|Home delivered twizlers                                     |Candy was delivered very fast and was purchased at a reasonable price.  I was home bound and unable to get to a store so this was perfect for me.                                                                                                                                                                                                                                                                                                                                                                                                                                                                                                                                                                                                                                                          |\n",
            "+---+----------+--------------+-------------------------------+--------------------+----------------------+-----+----------+------------------------------------------------------------+-----------------------------------------------------------------------------------------------------------------------------------------------------------------------------------------------------------------------------------------------------------------------------------------------------------------------------------------------------------------------------------------------------------------------------------------------------------------------------------------------------------------------------------------------------------------------------------------------------------------------------------------------------------------------------------------------------------------------------------------------------------------------------------------------------------+\n",
            "only showing top 20 rows"
          ]
        }
      ],
      "source": [
        "df = spark.read.csv(DATASET_PATH, header=True, escape=\"\\\"\")\n",
        "df.show(20, False)"
      ]
    },
    {
      "cell_type": "code",
      "execution_count": null,
      "metadata": {
        "colab": {
          "base_uri": "https://localhost:8080/",
          "referenced_widgets": [
            "132d6f4a18c2404eb3d75ea85994fc65",
            ""
          ]
        },
        "execution": {
          "iopub.execute_input": "2022-06-09T17:40:10.080240Z",
          "iopub.status.busy": "2022-06-09T17:40:10.079865Z",
          "iopub.status.idle": "2022-06-09T17:40:33.583078Z",
          "shell.execute_reply": "2022-06-09T17:40:33.582237Z",
          "shell.execute_reply.started": "2022-06-09T17:40:10.080192Z"
        },
        "id": "t4admo4oCmzd",
        "outputId": "f2423a6d-2bb7-4c35-ee02-58610d55384f",
        "tags": []
      },
      "outputs": [
        {
          "data": {
            "application/vnd.jupyter.widget-view+json": {
              "model_id": "132d6f4a18c2404eb3d75ea85994fc65",
              "version_major": 2,
              "version_minor": 0
            },
            "text/plain": [
              "VBox()"
            ]
          },
          "metadata": {},
          "output_type": "display_data"
        },
        {
          "data": {
            "application/vnd.jupyter.widget-view+json": {
              "model_id": "",
              "version_major": 2,
              "version_minor": 0
            },
            "text/plain": [
              "FloatProgress(value=0.0, bar_style='info', description='Progress:', layout=Layout(height='25px', width='50%'),…"
            ]
          },
          "metadata": {},
          "output_type": "display_data"
        },
        {
          "name": "stdout",
          "output_type": "stream",
          "text": [
            "Dataframe consist of 568454 data\n",
            "Dataframe consist of 10 features"
          ]
        }
      ],
      "source": [
        "print(\"Dataframe consist of\", df.count(), \"data\")\n",
        "print(\"Dataframe consist of\", len(df.columns), \"features\")"
      ]
    },
    {
      "cell_type": "code",
      "execution_count": null,
      "metadata": {
        "colab": {
          "base_uri": "https://localhost:8080/",
          "referenced_widgets": [
            "bbf39d7a3d174dbe99ed39eab90691d0",
            ""
          ]
        },
        "execution": {
          "iopub.execute_input": "2022-06-09T17:40:33.585193Z",
          "iopub.status.busy": "2022-06-09T17:40:33.584828Z",
          "iopub.status.idle": "2022-06-09T17:40:33.705264Z",
          "shell.execute_reply": "2022-06-09T17:40:33.704425Z",
          "shell.execute_reply.started": "2022-06-09T17:40:33.585143Z"
        },
        "id": "N-euWJ8TELY5",
        "outputId": "c0f72870-a2d3-439d-8b54-d25ba9738c42"
      },
      "outputs": [
        {
          "data": {
            "application/vnd.jupyter.widget-view+json": {
              "model_id": "bbf39d7a3d174dbe99ed39eab90691d0",
              "version_major": 2,
              "version_minor": 0
            },
            "text/plain": [
              "VBox()"
            ]
          },
          "metadata": {},
          "output_type": "display_data"
        },
        {
          "data": {
            "application/vnd.jupyter.widget-view+json": {
              "model_id": "",
              "version_major": 2,
              "version_minor": 0
            },
            "text/plain": [
              "FloatProgress(value=0.0, bar_style='info', description='Progress:', layout=Layout(height='25px', width='50%'),…"
            ]
          },
          "metadata": {},
          "output_type": "display_data"
        },
        {
          "name": "stdout",
          "output_type": "stream",
          "text": [
            "root\n",
            " |-- Id: string (nullable = true)\n",
            " |-- ProductId: string (nullable = true)\n",
            " |-- UserId: string (nullable = true)\n",
            " |-- ProfileName: string (nullable = true)\n",
            " |-- HelpfulnessNumerator: string (nullable = true)\n",
            " |-- HelpfulnessDenominator: string (nullable = true)\n",
            " |-- Score: string (nullable = true)\n",
            " |-- Time: string (nullable = true)\n",
            " |-- Summary: string (nullable = true)\n",
            " |-- Text: string (nullable = true)"
          ]
        }
      ],
      "source": [
        "df.printSchema()"
      ]
    },
    {
      "cell_type": "markdown",
      "metadata": {
        "id": "tesS1cZLITsa"
      },
      "source": [
        "All features have string data type"
      ]
    },
    {
      "cell_type": "code",
      "execution_count": null,
      "metadata": {
        "colab": {
          "base_uri": "https://localhost:8080/",
          "referenced_widgets": [
            "0016db129d1240f48a0257756b6bf249",
            ""
          ]
        },
        "execution": {
          "iopub.execute_input": "2022-06-09T17:40:33.709582Z",
          "iopub.status.busy": "2022-06-09T17:40:33.709352Z",
          "iopub.status.idle": "2022-06-09T17:41:01.189571Z",
          "shell.execute_reply": "2022-06-09T17:41:01.188623Z",
          "shell.execute_reply.started": "2022-06-09T17:40:33.709551Z"
        },
        "id": "20J32a_kJpGO",
        "outputId": "663327ce-6231-4606-8030-356c195d915a"
      },
      "outputs": [
        {
          "data": {
            "application/vnd.jupyter.widget-view+json": {
              "model_id": "0016db129d1240f48a0257756b6bf249",
              "version_major": 2,
              "version_minor": 0
            },
            "text/plain": [
              "VBox()"
            ]
          },
          "metadata": {},
          "output_type": "display_data"
        },
        {
          "data": {
            "application/vnd.jupyter.widget-view+json": {
              "model_id": "",
              "version_major": 2,
              "version_minor": 0
            },
            "text/plain": [
              "FloatProgress(value=0.0, bar_style='info', description='Progress:', layout=Layout(height='25px', width='50%'),…"
            ]
          },
          "metadata": {},
          "output_type": "display_data"
        },
        {
          "name": "stdout",
          "output_type": "stream",
          "text": [
            "+-------+------------------+--------------------+------------------+-----------+--------------------+----------------------+------------------+--------------------+-----------------+--------------------+\n",
            "|summary|                Id|           ProductId|            UserId|ProfileName|HelpfulnessNumerator|HelpfulnessDenominator|             Score|                Time|          Summary|                Text|\n",
            "+-------+------------------+--------------------+------------------+-----------+--------------------+----------------------+------------------+--------------------+-----------------+--------------------+\n",
            "|  count|            568454|              568454|            568454|     568454|              568454|                568454|            568454|              568454|           568454|              568454|\n",
            "|   mean|          284227.5| 6.588314217660668E9|              null|        NaN|  1.7438174416927315|    2.2288100708236724| 4.183198640523243|1.2962566049024196E9|              NaN|                null|\n",
            "| stddev|164098.67929846357|2.1762114197421737E9|              null|        NaN|   7.636512706820745|     8.289740293185599|1.3104360248243077| 4.804331233241545E7|              NaN|                null|\n",
            "|    min|                 1|          141278509X|#oc-R103C0QSV1DF5E|         \u001a\u001a|                   0|                     0|                 1|          1001289600|     ! It's HOT !|! think I just ru...|\n",
            "|    max|             99999|          B009WVB40S|     AZZZOVIBXHGDR|      ñañon|                  99|                    99|                 5|           997228800|Åwesome Coffee!!!|~Taste..... I was...|\n",
            "+-------+------------------+--------------------+------------------+-----------+--------------------+----------------------+------------------+--------------------+-----------------+--------------------+"
          ]
        }
      ],
      "source": [
        "df.describe().show()"
      ]
    },
    {
      "cell_type": "markdown",
      "metadata": {
        "id": "_M-3cbZxVvsW"
      },
      "source": [
        "Categorical:\n",
        "* Id\n",
        "* ProductId\n",
        "* UserId\n",
        "* ProfileName\n",
        "* Score\n",
        "\n",
        "Continuous:\n",
        "* HelpfulnessNumerator\n",
        "* HelpfulnessDenominator\n",
        "* Time\n",
        "\n",
        "Text:\n",
        "* Summary\n",
        "* Text\n"
      ]
    },
    {
      "cell_type": "code",
      "execution_count": null,
      "metadata": {
        "colab": {
          "base_uri": "https://localhost:8080/",
          "referenced_widgets": [
            "adf030fe09324f46815dc2aa996cc385",
            ""
          ]
        },
        "execution": {
          "iopub.execute_input": "2022-06-09T17:41:01.191893Z",
          "iopub.status.busy": "2022-06-09T17:41:01.191233Z",
          "iopub.status.idle": "2022-06-09T17:41:18.648436Z",
          "shell.execute_reply": "2022-06-09T17:41:18.647211Z",
          "shell.execute_reply.started": "2022-06-09T17:41:01.191840Z"
        },
        "id": "k90DzcywX3Ik",
        "outputId": "d50a9379-aa9e-4116-f4d0-5355f3e305f6"
      },
      "outputs": [
        {
          "data": {
            "application/vnd.jupyter.widget-view+json": {
              "model_id": "adf030fe09324f46815dc2aa996cc385",
              "version_major": 2,
              "version_minor": 0
            },
            "text/plain": [
              "VBox()"
            ]
          },
          "metadata": {},
          "output_type": "display_data"
        },
        {
          "data": {
            "application/vnd.jupyter.widget-view+json": {
              "model_id": "",
              "version_major": 2,
              "version_minor": 0
            },
            "text/plain": [
              "FloatProgress(value=0.0, bar_style='info', description='Progress:', layout=Layout(height='25px', width='50%'),…"
            ]
          },
          "metadata": {},
          "output_type": "display_data"
        },
        {
          "name": "stdout",
          "output_type": "stream",
          "text": [
            "+----------+--------------+-----------------+----------+--------------------+-----+\n",
            "| ProductId|        UserId|      ProfileName|      Time|                Text|count|\n",
            "+----------+--------------+-----------------+----------+--------------------+-----+\n",
            "|B000084DWM|A3TVZM3ZIXG8YW|christopher hayes|1291420800|This review will ...|   10|\n",
            "|B003WK0D8O|A3TVZM3ZIXG8YW|christopher hayes|1291420800|This review will ...|   10|\n",
            "|B003M60K54|A3TVZM3ZIXG8YW|christopher hayes|1291420800|This review will ...|   10|\n",
            "|B0002MLA5K|A3TVZM3ZIXG8YW|christopher hayes|1291420800|This review will ...|   10|\n",
            "|B0006345PW|A3TVZM3ZIXG8YW|christopher hayes|1291420800|This review will ...|   10|\n",
            "|B009GHI5Q4|A3TVZM3ZIXG8YW|christopher hayes|1291420800|This review will ...|   10|\n",
            "|B003MWBFMK|A3TVZM3ZIXG8YW|christopher hayes|1291420800|This review will ...|   10|\n",
            "|B001VIYCK4|A3TVZM3ZIXG8YW|christopher hayes|1291420800|This review will ...|   10|\n",
            "|B001VIY8BW|A3TVZM3ZIXG8YW|christopher hayes|1291420800|This review will ...|   10|\n",
            "|B003MA8P02|A3TVZM3ZIXG8YW|christopher hayes|1291420800|This review will ...|   10|\n",
            "|B003ANFMY8|A3TVZM3ZIXG8YW|christopher hayes|1291420800|This review will ...|   10|\n",
            "|B000QSN7P6|A3TVZM3ZIXG8YW|christopher hayes|1291420800|This review will ...|   10|\n",
            "|B003MWBFXY|A3TVZM3ZIXG8YW|christopher hayes|1291420800|This review will ...|   10|\n",
            "|B003MW7858|A3TVZM3ZIXG8YW|christopher hayes|1291420800|This review will ...|   10|\n",
            "|B003BJOORW|A3TVZM3ZIXG8YW|christopher hayes|1291420800|This review will ...|   10|\n",
            "|B009B87SAC|A3TVZM3ZIXG8YW|christopher hayes|1291420800|This review will ...|   10|\n",
            "|B003M5TG28|A3TVZM3ZIXG8YW|christopher hayes|1291420800|This review will ...|   10|\n",
            "|B001BDDTB2|A3FKGKUCI3DG9U|   Paul Moskowitz|1229472000|My two traditiona...|    6|\n",
            "|B001BDDT8K|A3FKGKUCI3DG9U|   Paul Moskowitz|1229472000|My two traditiona...|    6|\n",
            "|B001BCXTGS|A3FKGKUCI3DG9U|   Paul Moskowitz|1229472000|My two traditiona...|    6|\n",
            "+----------+--------------+-----------------+----------+--------------------+-----+\n",
            "only showing top 20 rows"
          ]
        }
      ],
      "source": [
        "df.groupby(['ProductId', 'UserId', 'ProfileName', 'Time', 'Text']).count().where('count > 1').sort('count', ascending=False).show()"
      ]
    },
    {
      "cell_type": "markdown",
      "metadata": {
        "id": "shAGNk5KYbOZ"
      },
      "source": [
        "Dataframe has duplicate data, even for different products"
      ]
    },
    {
      "cell_type": "code",
      "execution_count": null,
      "metadata": {
        "colab": {
          "base_uri": "https://localhost:8080/",
          "referenced_widgets": [
            "f74f643cfa1b432a9320b28c5e5ad0a9",
            ""
          ]
        },
        "execution": {
          "iopub.execute_input": "2022-06-09T17:41:18.650854Z",
          "iopub.status.busy": "2022-06-09T17:41:18.650219Z",
          "iopub.status.idle": "2022-06-09T17:41:36.138050Z",
          "shell.execute_reply": "2022-06-09T17:41:36.137138Z",
          "shell.execute_reply.started": "2022-06-09T17:41:18.650804Z"
        },
        "id": "GCDKDCjOJ72K",
        "outputId": "0c02c4ca-b86e-4234-eedb-b9da01b95bb7"
      },
      "outputs": [
        {
          "data": {
            "application/vnd.jupyter.widget-view+json": {
              "model_id": "f74f643cfa1b432a9320b28c5e5ad0a9",
              "version_major": 2,
              "version_minor": 0
            },
            "text/plain": [
              "VBox()"
            ]
          },
          "metadata": {},
          "output_type": "display_data"
        },
        {
          "data": {
            "application/vnd.jupyter.widget-view+json": {
              "model_id": "",
              "version_major": 2,
              "version_minor": 0
            },
            "text/plain": [
              "FloatProgress(value=0.0, bar_style='info', description='Progress:', layout=Layout(height='25px', width='50%'),…"
            ]
          },
          "metadata": {},
          "output_type": "display_data"
        },
        {
          "name": "stdout",
          "output_type": "stream",
          "text": [
            "+---+---------+------+-----------+--------------------+----------------------+-----+----+-------+----+\n",
            "| Id|ProductId|UserId|ProfileName|HelpfulnessNumerator|HelpfulnessDenominator|Score|Time|Summary|Text|\n",
            "+---+---------+------+-----------+--------------------+----------------------+-----+----+-------+----+\n",
            "|  0|        0|     0|         34|                   0|                     0|    0|   0|      2|   0|\n",
            "+---+---------+------+-----------+--------------------+----------------------+-----+----+-------+----+"
          ]
        }
      ],
      "source": [
        "df.select([count(when(col(c).isNull() | isnan(c), c)).alias(c) for c in df.columns]).show()"
      ]
    },
    {
      "cell_type": "markdown",
      "metadata": {
        "id": "Nzscux2oZAZB"
      },
      "source": [
        "`ProfileName` and `Summary` features have null/nan values"
      ]
    },
    {
      "cell_type": "markdown",
      "metadata": {
        "id": "3u52E6rE18eZ"
      },
      "source": [
        "## 3. Data Preparation"
      ]
    },
    {
      "cell_type": "code",
      "execution_count": null,
      "metadata": {
        "colab": {
          "base_uri": "https://localhost:8080/",
          "referenced_widgets": [
            "c33dbb4d40424060932eeaae61b8faf6",
            ""
          ]
        },
        "execution": {
          "iopub.execute_input": "2022-06-09T17:44:38.895497Z",
          "iopub.status.busy": "2022-06-09T17:44:38.895080Z",
          "iopub.status.idle": "2022-06-09T17:44:54.416861Z",
          "shell.execute_reply": "2022-06-09T17:44:54.415664Z",
          "shell.execute_reply.started": "2022-06-09T17:44:38.895445Z"
        },
        "id": "O8MEBdEpNssd",
        "outputId": "a7100e4e-bf4a-4e98-d821-883272bb6f33"
      },
      "outputs": [
        {
          "data": {
            "application/vnd.jupyter.widget-view+json": {
              "model_id": "c33dbb4d40424060932eeaae61b8faf6",
              "version_major": 2,
              "version_minor": 0
            },
            "text/plain": [
              "VBox()"
            ]
          },
          "metadata": {},
          "output_type": "display_data"
        },
        {
          "data": {
            "application/vnd.jupyter.widget-view+json": {
              "model_id": "",
              "version_major": 2,
              "version_minor": 0
            },
            "text/plain": [
              "FloatProgress(value=0.0, bar_style='info', description='Progress:', layout=Layout(height='25px', width='50%'),…"
            ]
          },
          "metadata": {},
          "output_type": "display_data"
        },
        {
          "name": "stdout",
          "output_type": "stream",
          "text": [
            "+--------------------+-----+\n",
            "|                Text|Score|\n",
            "+--------------------+-----+\n",
            "|I have bought sev...|    5|\n",
            "|Product arrived l...|    1|\n",
            "|This is a confect...|    4|\n",
            "|If you are lookin...|    2|\n",
            "|Great taffy at a ...|    5|\n",
            "|I got a wild hair...|    4|\n",
            "|This saltwater ta...|    5|\n",
            "|This taffy is so ...|    5|\n",
            "|Right now I'm mos...|    5|\n",
            "|This is a very he...|    5|\n",
            "|I don't know if i...|    5|\n",
            "|One of my boys ne...|    5|\n",
            "|My cats have been...|    1|\n",
            "|good flavor! thes...|    4|\n",
            "|The Strawberry Tw...|    5|\n",
            "|My daughter loves...|    5|\n",
            "|I love eating the...|    2|\n",
            "|I am very satisfi...|    5|\n",
            "|Twizzlers, Strawb...|    5|\n",
            "|Candy was deliver...|    5|\n",
            "+--------------------+-----+\n",
            "only showing top 20 rows"
          ]
        }
      ],
      "source": [
        "# select text and score features\n",
        "raw_df = df.select(\"Text\", \"Score\")\n",
        "raw_df.show()"
      ]
    },
    {
      "cell_type": "code",
      "execution_count": null,
      "metadata": {
        "colab": {
          "base_uri": "https://localhost:8080/",
          "referenced_widgets": [
            "a969253737f84ce8ac200382812cbe09",
            ""
          ]
        },
        "execution": {
          "iopub.execute_input": "2022-06-09T17:44:54.419245Z",
          "iopub.status.busy": "2022-06-09T17:44:54.418908Z",
          "iopub.status.idle": "2022-06-09T17:45:19.872151Z",
          "shell.execute_reply": "2022-06-09T17:45:19.871000Z",
          "shell.execute_reply.started": "2022-06-09T17:44:54.419196Z"
        },
        "id": "QnvGrLs_kZKy",
        "outputId": "4e897cce-2f68-4a9f-bc54-1e71b8d47fe5"
      },
      "outputs": [
        {
          "data": {
            "application/vnd.jupyter.widget-view+json": {
              "model_id": "a969253737f84ce8ac200382812cbe09",
              "version_major": 2,
              "version_minor": 0
            },
            "text/plain": [
              "VBox()"
            ]
          },
          "metadata": {},
          "output_type": "display_data"
        },
        {
          "data": {
            "application/vnd.jupyter.widget-view+json": {
              "model_id": "",
              "version_major": 2,
              "version_minor": 0
            },
            "text/plain": [
              "FloatProgress(value=0.0, bar_style='info', description='Progress:', layout=Layout(height='25px', width='50%'),…"
            ]
          },
          "metadata": {},
          "output_type": "display_data"
        },
        {
          "name": "stdout",
          "output_type": "stream",
          "text": [
            "Number of data after removing the duplicates: 393675\n",
            "+--------------------+-----+\n",
            "|                Text|Score|\n",
            "+--------------------+-----+\n",
            "|I went to 4 groce...|    5|\n",
            "|Plocky's chips ar...|    5|\n",
            "|Soft smooth textu...|    5|\n",
            "|I think pack of 4...|    3|\n",
            "|I have fallen in ...|    5|\n",
            "|This stuff makes ...|    5|\n",
            "|What a great gift...|    5|\n",
            "|Not much of a dec...|    3|\n",
            "|We have been buyi...|    4|\n",
            "|This is one of th...|    5|\n",
            "|I tasted a few of...|    5|\n",
            "|My favorite of th...|    5|\n",
            "|The pepperoni is ...|    5|\n",
            "|These are a good ...|    3|\n",
            "|I love pistachio ...|    4|\n",
            "|This tea is wonde...|    5|\n",
            "|Crunchy.  Came pa...|    3|\n",
            "|I really enjoyed ...|    2|\n",
            "|I buy most everyt...|    1|\n",
            "|As soon as I pick...|    5|\n",
            "+--------------------+-----+\n",
            "only showing top 20 rows"
          ]
        }
      ],
      "source": [
        "# drop duplicates data\n",
        "raw_df = raw_df.dropDuplicates()\n",
        "print(\"Number of data after removing the duplicates:\", raw_df.count())\n",
        "raw_df.show()"
      ]
    },
    {
      "cell_type": "code",
      "execution_count": null,
      "metadata": {
        "colab": {
          "base_uri": "https://localhost:8080/",
          "referenced_widgets": [
            "389d3fb5df8b474893bfc119b958b1ef",
            ""
          ]
        },
        "execution": {
          "iopub.execute_input": "2022-06-09T17:45:19.874528Z",
          "iopub.status.busy": "2022-06-09T17:45:19.873932Z",
          "iopub.status.idle": "2022-06-09T17:45:29.370345Z",
          "shell.execute_reply": "2022-06-09T17:45:29.369485Z",
          "shell.execute_reply.started": "2022-06-09T17:45:19.874474Z"
        },
        "id": "GYfdXd8XbzjE",
        "outputId": "56bc0525-8f98-44ef-c885-e3a04970a18a"
      },
      "outputs": [
        {
          "data": {
            "application/vnd.jupyter.widget-view+json": {
              "model_id": "389d3fb5df8b474893bfc119b958b1ef",
              "version_major": 2,
              "version_minor": 0
            },
            "text/plain": [
              "VBox()"
            ]
          },
          "metadata": {},
          "output_type": "display_data"
        },
        {
          "data": {
            "application/vnd.jupyter.widget-view+json": {
              "model_id": "",
              "version_major": 2,
              "version_minor": 0
            },
            "text/plain": [
              "FloatProgress(value=0.0, bar_style='info', description='Progress:', layout=Layout(height='25px', width='50%'),…"
            ]
          },
          "metadata": {},
          "output_type": "display_data"
        },
        {
          "name": "stdout",
          "output_type": "stream",
          "text": [
            "+--------------------+-----+\n",
            "|                Text|Score|\n",
            "+--------------------+-----+\n",
            "|I went to 4 groce...|  5.0|\n",
            "|Plocky's chips ar...|  5.0|\n",
            "|Soft smooth textu...|  5.0|\n",
            "|I think pack of 4...|  3.0|\n",
            "|I have fallen in ...|  5.0|\n",
            "|This stuff makes ...|  5.0|\n",
            "|What a great gift...|  5.0|\n",
            "|Not much of a dec...|  3.0|\n",
            "|We have been buyi...|  4.0|\n",
            "|This is one of th...|  5.0|\n",
            "|I tasted a few of...|  5.0|\n",
            "|My favorite of th...|  5.0|\n",
            "|The pepperoni is ...|  5.0|\n",
            "|These are a good ...|  3.0|\n",
            "|I love pistachio ...|  4.0|\n",
            "|This tea is wonde...|  5.0|\n",
            "|Crunchy.  Came pa...|  3.0|\n",
            "|I really enjoyed ...|  2.0|\n",
            "|I buy most everyt...|  1.0|\n",
            "|As soon as I pick...|  5.0|\n",
            "+--------------------+-----+\n",
            "only showing top 20 rows"
          ]
        }
      ],
      "source": [
        "# cast score to double\n",
        "raw_df = raw_df.withColumn(\"Score\", raw_df.Score.cast('double'))\n",
        "raw_df.show()"
      ]
    },
    {
      "cell_type": "code",
      "execution_count": null,
      "metadata": {
        "colab": {
          "base_uri": "https://localhost:8080/",
          "referenced_widgets": [
            "5f421e4eab73411c904864ba494b710c",
            ""
          ]
        },
        "execution": {
          "iopub.execute_input": "2022-06-09T17:45:29.372990Z",
          "iopub.status.busy": "2022-06-09T17:45:29.372294Z",
          "iopub.status.idle": "2022-06-09T17:45:40.773110Z",
          "shell.execute_reply": "2022-06-09T17:45:40.772004Z",
          "shell.execute_reply.started": "2022-06-09T17:45:29.372936Z"
        },
        "id": "S5hpr0ZOaOcw",
        "outputId": "53881653-a783-430a-c513-ba8d627d9a0b"
      },
      "outputs": [
        {
          "data": {
            "application/vnd.jupyter.widget-view+json": {
              "model_id": "5f421e4eab73411c904864ba494b710c",
              "version_major": 2,
              "version_minor": 0
            },
            "text/plain": [
              "VBox()"
            ]
          },
          "metadata": {},
          "output_type": "display_data"
        },
        {
          "data": {
            "application/vnd.jupyter.widget-view+json": {
              "model_id": "",
              "version_major": 2,
              "version_minor": 0
            },
            "text/plain": [
              "FloatProgress(value=0.0, bar_style='info', description='Progress:', layout=Layout(height='25px', width='50%'),…"
            ]
          },
          "metadata": {},
          "output_type": "display_data"
        },
        {
          "name": "stdout",
          "output_type": "stream",
          "text": [
            "+--------------------+-----+---------+\n",
            "|                Text|Score|Sentiment|\n",
            "+--------------------+-----+---------+\n",
            "|I went to 4 groce...|  5.0|      1.0|\n",
            "|Plocky's chips ar...|  5.0|      1.0|\n",
            "|Soft smooth textu...|  5.0|      1.0|\n",
            "|I think pack of 4...|  3.0|      1.0|\n",
            "|I have fallen in ...|  5.0|      1.0|\n",
            "|This stuff makes ...|  5.0|      1.0|\n",
            "|What a great gift...|  5.0|      1.0|\n",
            "|Not much of a dec...|  3.0|      1.0|\n",
            "|We have been buyi...|  4.0|      1.0|\n",
            "|This is one of th...|  5.0|      1.0|\n",
            "|I tasted a few of...|  5.0|      1.0|\n",
            "|My favorite of th...|  5.0|      1.0|\n",
            "|The pepperoni is ...|  5.0|      1.0|\n",
            "|These are a good ...|  3.0|      1.0|\n",
            "|I love pistachio ...|  4.0|      1.0|\n",
            "|This tea is wonde...|  5.0|      1.0|\n",
            "|Crunchy.  Came pa...|  3.0|      1.0|\n",
            "|I really enjoyed ...|  2.0|      0.0|\n",
            "|I buy most everyt...|  1.0|      0.0|\n",
            "|As soon as I pick...|  5.0|      1.0|\n",
            "+--------------------+-----+---------+\n",
            "only showing top 20 rows"
          ]
        }
      ],
      "source": [
        "# define bucket borders (splits array), 0.0: -1.0 < x < 3.0 and 1.0: 3.0 <= x < 6.0\n",
        "bucketBorders = [-1.0, 3.0, 6.0] \n",
        "# initialize Bucketizer with defined bucket borders as splits, Score as input column, and Sentiment as output column\n",
        "bucketer = Bucketizer().setSplits(bucketBorders).setInputCol(\"Score\").setOutputCol(\"Sentiment\")\n",
        "# apply it to raw_df\n",
        "raw_df = bucketer.transform(raw_df)\n",
        "raw_df.show()"
      ]
    },
    {
      "cell_type": "code",
      "execution_count": null,
      "metadata": {
        "colab": {
          "base_uri": "https://localhost:8080/",
          "referenced_widgets": [
            "3d27d520c0aa497abba280552d1690d8",
            ""
          ]
        },
        "execution": {
          "iopub.execute_input": "2022-06-09T17:45:40.775436Z",
          "iopub.status.busy": "2022-06-09T17:45:40.774823Z",
          "iopub.status.idle": "2022-06-09T17:45:54.195479Z",
          "shell.execute_reply": "2022-06-09T17:45:54.194398Z",
          "shell.execute_reply.started": "2022-06-09T17:45:40.775390Z"
        },
        "id": "5IUzd4oi8ygZ",
        "outputId": "80880422-34ee-4031-f9ac-8712e90b76e5"
      },
      "outputs": [
        {
          "data": {
            "application/vnd.jupyter.widget-view+json": {
              "model_id": "3d27d520c0aa497abba280552d1690d8",
              "version_major": 2,
              "version_minor": 0
            },
            "text/plain": [
              "VBox()"
            ]
          },
          "metadata": {},
          "output_type": "display_data"
        },
        {
          "data": {
            "application/vnd.jupyter.widget-view+json": {
              "model_id": "",
              "version_major": 2,
              "version_minor": 0
            },
            "text/plain": [
              "FloatProgress(value=0.0, bar_style='info', description='Progress:', layout=Layout(height='25px', width='50%'),…"
            ]
          },
          "metadata": {},
          "output_type": "display_data"
        },
        {
          "name": "stdout",
          "output_type": "stream",
          "text": [
            "+----------------------------------------------------------------------------------------------------------------------------------------------------------------------------------------------------------------------------------------------------------------------------------------------------------------------------------------------------------------------------------------------------------------------------------------------------------------------------------------------------------------------------------------------------------------------------------------------------------------------------------------------------------------------------------+-----+---------+\n",
            "|Text                                                                                                                                                                                                                                                                                                                                                                                                                                                                                                                                                                                                                                                                              |Score|Sentiment|\n",
            "+----------------------------------------------------------------------------------------------------------------------------------------------------------------------------------------------------------------------------------------------------------------------------------------------------------------------------------------------------------------------------------------------------------------------------------------------------------------------------------------------------------------------------------------------------------------------------------------------------------------------------------------------------------------------------------+-----+---------+\n",
            "|I went to grocery stores looking for this flavor of Jello for my green tomato jam recipe and finally found it here This jello is wonderful Evidently it is only carried in the stores during the summer but with harvest time in the Fall I could not find it anywhere in town This Jello tastes like watermelon and the jam recipe I made with it takes like watermelon jam Great made as regular Jello too Yummy                                                                                                                                                                                                                                                                |5.0  |1.0      |\n",
            "|Plocky is chips are made of several whole grains and have a touch of sweetness They are a little lower in fat and sodium than regular tortilla chips The flavor out performs any tortilla chip I have ever eaten They hold up great to salsas and dips Nothing wimpy about them I just wish the company made a bigger bag Love them Usually found in the organic foods section of the grocery but seem to be difficult to obtain as the shelf is always empty Order by the case You will be glad you did as they disappear fast                                                                                                                                                   |5.0  |1.0      |\n",
            "|Soft smooth texture my little one devours this one it is one of the best meat veg dinners we have found                                                                                                                                                                                                                                                                                                                                                                                                                                                                                                                                                                           |5.0  |1.0      |\n",
            "|I think pack of for is too much per box I got them in Target for less than sometimes Also maybe because of promotion I got them for or around that at Safeway I will not buy this one online TASTE is FIVE STARS but price is ONE STAR                                                                                                                                                                                                                                                                                                                                                                                                                                            |3.0  |1.0      |\n",
            "|I have fallen in love with this tea I am a british tea fanatic and Ashby is has superceded my tastes and expectations Smooth not to bitter low tannins awesome taste I will take this over PG Tips                                                                                                                                                                                                                                                                                                                                                                                                                                                                                |5.0  |1.0      |\n",
            "|This stuff makes great pancakes and shortcake that I am actually allowed to eat My doctor tells me I am celiac this was three years ago now I just hope I can continue to find this Bisquick                                                                                                                                                                                                                                                                                                                                                                                                                                                                                      |5.0  |1.0      |\n",
            "|What a great gift I bought it for a couple of foodie friends and they LOVED it It came beautifully packaged ready to gift I would totally recommend it                                                                                                                                                                                                                                                                                                                                                                                                                                                                                                                            |5.0  |1.0      |\n",
            "|Not much of a decaf drinker unless I am craving a cup late night for some reason I have to say this coffee tasted average at best I am a WAWA coffee fan and coming from them to this well it missed the mark I gave some to my mother in law and she seemed happy with it so stars in that respect I might try mixing it with my non decaf coffee to see how it tastes but I am not holding my breath If the price was a few cheaper definitely would bump it up a star                                                                                                                                                                                                          |3.0  |1.0      |\n",
            "|We have been buying Cat Grass for many years and this product is very well priced and works just as good as the expensive packages Our Cats have Grown healthy and happy since they have this grass Great Seller delivered on time and product sold is exactly what we wanted and will purchase again                                                                                                                                                                                                                                                                                                                                                                             |4.0  |1.0      |\n",
            "|This is one of the best dried organic crackers around Highly recommend them compared to other available types of similar products                                                                                                                                                                                                                                                                                                                                                                                                                                                                                                                                                 |5.0  |1.0      |\n",
            "|I tasted a few of these and they are pretty good I was expecting something a bit flavorless and I can imagine happily snacking on these for a multi day packing hike I will write more after I have taken them on the trail                                                                                                                                                                                                                                                                                                                                                                                                                                                       |5.0  |1.0      |\n",
            "|My favorite of the Wolfgang series discovered when trying all of the flavors in the available sample pack Very good flavor consistent with each pod and not overdone with added flavors Very good dark roast Colombian cup of coffee from the Wolf                                                                                                                                                                                                                                                                                                                                                                                                                                |5.0  |1.0      |\n",
            "|The pepperoni is fantastic as usual Amazon was not While I cancelled the order on my end it was a duplicate of my son is they did not acknowledge it although I got an e mail confirming the cancellation Because it was food there are no returns Looks like bags every months instead of one                                                                                                                                                                                                                                                                                                                                                                                    |5.0  |1.0      |\n",
            "|These are a good cookie I was hoping for something lighter but in all they had a good taste but no real crunch Unfortunately just about every cracker arrived broken or nearly smashed Perhaps we will add them to vanilla ice cream                                                                                                                                                                                                                                                                                                                                                                                                                                              |3.0  |1.0      |\n",
            "|I love pistachio nuts and I also like working with nut oils of all kinds I had not even thougth of using pistachio oil After purchasing this oil and using it once as a salad dressing spinach nectarines and toasted pistachios I am sold and am on a hunt for more ideas I would welcome ideas                                                                                                                                                                                                                                                                                                                                                                                  |4.0  |1.0      |\n",
            "|This tea is wonderful and soothing and even more soothing to get it shipped to the house I have found it hard to find decaffeinated tea in the grocery store so this is much easier                                                                                                                                                                                                                                                                                                                                                                                                                                                                                               |5.0  |1.0      |\n",
            "|Crunchy Came packaged well If you are thinking they are going to be like FunYuns you would be wrong They are VERY mild flavored They are ok but nothing I would crave for sure                                                                                                                                                                                                                                                                                                                                                                                                                                                                                                    |3.0  |1.0      |\n",
            "|I really enjoyed the taste of this product It neither seemed too berry or too kiwi it was a nice balance I would compare this to a strongly flavored carbonated water product The flavor is clean and crisp and not overpowering The product provides of vitamin C a definite plus However the product has g of carbs g of which are sugars Granted these are not processed sugars and are only natural sugars from the fruit juices the product contains However this results in a product that has calories in an ounce can This results in a poor substitute for soda It is an all natural product and tastes great but has entirely too many calories for such a small serving|2.0  |0.0      |\n",
            "|I buy most everything from Amazon BUT not coffee K cups has this product and all K cups for per and free shipping and they ship air UPS                                                                                                                                                                                                                                                                                                                                                                                                                                                                                                                                           |1.0  |0.0      |\n",
            "|As soon as I picked up the container I was sure I would be in for a treat It is so well made not a cheap feeling tin full of dusty tea The excellent quality of this tea was apparent even before filling the teapot long lustrous leaves with a heavenly aroma Use much less tea than the instructions on the package call for since this tea is very flavorful it does not take much to brew a good cup The characteristic Earl Grey flavor is exactly balanced with the strength of the tea flavor Recommended without hesitation                                                                                                                                              |5.0  |1.0      |\n",
            "+----------------------------------------------------------------------------------------------------------------------------------------------------------------------------------------------------------------------------------------------------------------------------------------------------------------------------------------------------------------------------------------------------------------------------------------------------------------------------------------------------------------------------------------------------------------------------------------------------------------------------------------------------------------------------------+-----+---------+\n",
            "only showing top 20 rows"
          ]
        }
      ],
      "source": [
        "def text_cleaning(text):\n",
        "    text = re.sub(r\"won\\'t\", \"will not\", text)\n",
        "    text = re.sub(r\"can\\'t\", \"can not\", text)\n",
        "    text = re.sub(r\"n\\'t\", \" not\", text)\n",
        "    text = re.sub(r\"\\'re\", \" are\", text)\n",
        "    text = re.sub(r\"\\'s\", \" is\", text)\n",
        "    text = re.sub(r\"\\'d\", \" would\", text)\n",
        "    text = re.sub(r\"\\'ll\", \" will\", text)\n",
        "    text = re.sub(r\"\\'t\", \" not\", text)\n",
        "    text = re.sub(r\"\\'ve\", \" have\", text)\n",
        "    text = re.sub(r\"\\'m\", \" am\", text)\n",
        "    text = re.sub(r\"http\\S+|www\\.\\S+|<.*?>|[^a-zA-Z\\s]\", \" \", text) # remove url, html tag, and non words\n",
        "    text = re.sub(r\"\\s\\s+\", \" \", text) # strip whitespaces\n",
        "    return text.strip()\n",
        "clean_text = udf(lambda text: text_cleaning(text))\n",
        "\n",
        "# clean text from url, html tag, and non words\n",
        "raw_df = raw_df.withColumn(\"Text\", clean_text(col(\"Text\")))\n",
        "raw_df.show(20, False)"
      ]
    },
    {
      "cell_type": "code",
      "execution_count": null,
      "metadata": {
        "execution": {
          "iopub.execute_input": "2022-06-09T17:45:54.198765Z",
          "iopub.status.busy": "2022-06-09T17:45:54.198199Z",
          "iopub.status.idle": "2022-06-09T17:45:54.557244Z",
          "shell.execute_reply": "2022-06-09T17:45:54.556401Z",
          "shell.execute_reply.started": "2022-06-09T17:45:54.198709Z"
        },
        "id": "VFS8PTo3qyOw",
        "colab": {
          "referenced_widgets": [
            "70e766cf3c7d4bf2b38661611b07fdb9",
            ""
          ]
        },
        "outputId": "415fbb1a-a7e8-4aff-d316-5fbf35bc111e"
      },
      "outputs": [
        {
          "data": {
            "application/vnd.jupyter.widget-view+json": {
              "model_id": "70e766cf3c7d4bf2b38661611b07fdb9",
              "version_major": 2,
              "version_minor": 0
            },
            "text/plain": [
              "VBox()"
            ]
          },
          "metadata": {},
          "output_type": "display_data"
        },
        {
          "data": {
            "application/vnd.jupyter.widget-view+json": {
              "model_id": "",
              "version_major": 2,
              "version_minor": 0
            },
            "text/plain": [
              "FloatProgress(value=0.0, bar_style='info', description='Progress:', layout=Layout(height='25px', width='50%'),…"
            ]
          },
          "metadata": {},
          "output_type": "display_data"
        }
      ],
      "source": [
        "# initialize tokenizer (split sentences into words)\n",
        "tokenizer = Tokenizer().setInputCol(\"Text\").setOutputCol(\"Words\")\n",
        "\n",
        "# initialize stopWordsRemover (remove englist stopwords)\n",
        "englishStopWords = StopWordsRemover.loadDefaultStopWords(\"english\")\n",
        "stopWordsRemover = StopWordsRemover().setStopWords(englishStopWords).setInputCol(tokenizer.getOutputCol()).setOutputCol(\"FilteredWords\")\n",
        "\n",
        "# initialize TF-IDF (hash each word, convert it to numerical representation, and weigh each word in the voculary according to the inverse document frequency)\n",
        "tf = HashingTF().setInputCol(stopWordsRemover.getOutputCol()).setOutputCol(\"TFOut\").setNumFeatures(1000)\n",
        "idf = IDF().setInputCol(tf.getOutputCol()).setOutputCol(\"IDFOut\").setMinDocFreq(5)"
      ]
    },
    {
      "cell_type": "code",
      "execution_count": null,
      "metadata": {
        "colab": {
          "base_uri": "https://localhost:8080/",
          "referenced_widgets": [
            "9d7c8d194b104d8db4dbda471b021e55",
            ""
          ]
        },
        "execution": {
          "iopub.execute_input": "2022-06-09T17:59:54.322984Z",
          "iopub.status.busy": "2022-06-09T17:59:54.322697Z",
          "iopub.status.idle": "2022-06-09T18:00:27.800215Z",
          "shell.execute_reply": "2022-06-09T18:00:27.799091Z",
          "shell.execute_reply.started": "2022-06-09T17:59:54.322949Z"
        },
        "id": "42Eo0K5JeVeG",
        "outputId": "4cc0b771-c362-4e29-a5e3-391b441c2256",
        "tags": []
      },
      "outputs": [
        {
          "data": {
            "application/vnd.jupyter.widget-view+json": {
              "model_id": "9d7c8d194b104d8db4dbda471b021e55",
              "version_major": 2,
              "version_minor": 0
            },
            "text/plain": [
              "VBox()"
            ]
          },
          "metadata": {},
          "output_type": "display_data"
        },
        {
          "data": {
            "application/vnd.jupyter.widget-view+json": {
              "model_id": "",
              "version_major": 2,
              "version_minor": 0
            },
            "text/plain": [
              "FloatProgress(value=0.0, bar_style='info', description='Progress:', layout=Layout(height='25px', width='50%'),…"
            ]
          },
          "metadata": {},
          "output_type": "display_data"
        },
        {
          "name": "stdout",
          "output_type": "stream",
          "text": [
            "+---------+--------------------+\n",
            "|Sentiment|                Text|\n",
            "+---------+--------------------+\n",
            "|      0.0|A couple years ag...|\n",
            "|      0.0|A friend gave me ...|\n",
            "|      0.0|A little too eart...|\n",
            "|      0.0|A majority of the...|\n",
            "|      0.0|A number of us ea...|\n",
            "|      0.0|A shop in my neig...|\n",
            "|      0.0|ASIN I purchase t...|\n",
            "|      0.0|According to the ...|\n",
            "|      0.0|After about a yea...|\n",
            "|      0.0|After finding out...|\n",
            "|      0.0|After finding out...|\n",
            "|      0.0|After having REAL...|\n",
            "|      0.0|After having my v...|\n",
            "|      0.0|After reading all...|\n",
            "|      0.0|After reading rev...|\n",
            "|      0.0|After reading rev...|\n",
            "|      0.0|After reading the...|\n",
            "|      0.0|After reading the...|\n",
            "|      0.0|After spending on...|\n",
            "|      0.0|After the disappo...|\n",
            "+---------+--------------------+\n",
            "only showing top 20 rows"
          ]
        }
      ],
      "source": [
        "# split data into train_df and test_df\n",
        "train_df, test_df = raw_df.select([\"Sentiment\", \"Text\"]).randomSplit([0.8, 0.2])\n",
        "train_df.show()"
      ]
    },
    {
      "cell_type": "code",
      "execution_count": null,
      "metadata": {
        "execution": {
          "iopub.execute_input": "2022-06-09T18:00:27.802574Z",
          "iopub.status.busy": "2022-06-09T18:00:27.802226Z",
          "iopub.status.idle": "2022-06-09T18:01:43.526434Z",
          "shell.execute_reply": "2022-06-09T18:01:43.524644Z",
          "shell.execute_reply.started": "2022-06-09T18:00:27.802521Z"
        },
        "id": "UDrNhW2dueXJ",
        "tags": [],
        "colab": {
          "referenced_widgets": [
            "b630a39ba8b040a6bb1994b69487cbf0",
            ""
          ]
        },
        "outputId": "6bfd4b7c-8e0a-4e4b-b7f9-318552176e8f"
      },
      "outputs": [
        {
          "data": {
            "application/vnd.jupyter.widget-view+json": {
              "model_id": "b630a39ba8b040a6bb1994b69487cbf0",
              "version_major": 2,
              "version_minor": 0
            },
            "text/plain": [
              "VBox()"
            ]
          },
          "metadata": {},
          "output_type": "display_data"
        },
        {
          "data": {
            "application/vnd.jupyter.widget-view+json": {
              "model_id": "",
              "version_major": 2,
              "version_minor": 0
            },
            "text/plain": [
              "FloatProgress(value=0.0, bar_style='info', description='Progress:', layout=Layout(height='25px', width='50%'),…"
            ]
          },
          "metadata": {},
          "output_type": "display_data"
        }
      ],
      "source": [
        "# initialize pipeline and fit it to train_df\n",
        "pipeline = Pipeline(stages=[tokenizer, stopWordsRemover, tf, idf])\n",
        "fittedPipeline = pipeline.fit(train_df)"
      ]
    },
    {
      "cell_type": "code",
      "execution_count": null,
      "metadata": {
        "colab": {
          "base_uri": "https://localhost:8080/",
          "referenced_widgets": [
            "229c517a48b344fe83314f781b1768f7",
            ""
          ]
        },
        "execution": {
          "iopub.execute_input": "2022-06-09T18:01:43.543297Z",
          "iopub.status.busy": "2022-06-09T18:01:43.530906Z",
          "iopub.status.idle": "2022-06-09T18:01:54.961251Z",
          "shell.execute_reply": "2022-06-09T18:01:54.960123Z",
          "shell.execute_reply.started": "2022-06-09T18:01:43.543236Z"
        },
        "id": "KRDjwb1-w2Fq",
        "outputId": "120a86c0-0244-4c8e-9101-a53bc560d3b6",
        "tags": []
      },
      "outputs": [
        {
          "data": {
            "application/vnd.jupyter.widget-view+json": {
              "model_id": "229c517a48b344fe83314f781b1768f7",
              "version_major": 2,
              "version_minor": 0
            },
            "text/plain": [
              "VBox()"
            ]
          },
          "metadata": {},
          "output_type": "display_data"
        },
        {
          "data": {
            "application/vnd.jupyter.widget-view+json": {
              "model_id": "",
              "version_major": 2,
              "version_minor": 0
            },
            "text/plain": [
              "FloatProgress(value=0.0, bar_style='info', description='Progress:', layout=Layout(height='25px', width='50%'),…"
            ]
          },
          "metadata": {},
          "output_type": "display_data"
        },
        {
          "name": "stdout",
          "output_type": "stream",
          "text": [
            "+---------+--------------------+--------------------+--------------------+--------------------+--------------------+\n",
            "|Sentiment|                Text|               Words|       FilteredWords|               TFOut|              IDFOut|\n",
            "+---------+--------------------+--------------------+--------------------+--------------------+--------------------+\n",
            "|      0.0|A couple years ag...|[a, couple, years...|[couple, years, a...|(1000,[80,133,157...|(1000,[80,133,157...|\n",
            "|      0.0|A friend gave me ...|[a, friend, gave,...|[friend, gave, ba...|(1000,[3,12,43,55...|(1000,[3,12,43,55...|\n",
            "|      0.0|A little too eart...|[a, little, too, ...|[little, earthy, ...|(1000,[34,50,144,...|(1000,[34,50,144,...|\n",
            "|      0.0|A majority of the...|[a, majority, of,...|[majority, pods, ...|(1000,[60,88,89,1...|(1000,[60,88,89,1...|\n",
            "|      0.0|A number of us ea...|[a, number, of, u...|[number, us, earn...|(1000,[29,61,111,...|(1000,[29,61,111,...|\n",
            "|      0.0|A shop in my neig...|[a, shop, in, my,...|[shop, neighborho...|(1000,[6,80,103,1...|(1000,[6,80,103,1...|\n",
            "|      0.0|ASIN I purchase t...|[asin, i, purchas...|[asin, purchase, ...|(1000,[35,125,165...|(1000,[35,125,165...|\n",
            "|      0.0|According to the ...|[according, to, t...|[according, label...|(1000,[1,55,56,65...|(1000,[1,55,56,65...|\n",
            "|      0.0|After about a yea...|[after, about, a,...|[year, subscribin...|(1000,[10,13,21,3...|(1000,[10,13,21,3...|\n",
            "|      0.0|After finding out...|[after, finding, ...|[finding, girlfri...|(1000,[73,96,116,...|(1000,[73,96,116,...|\n",
            "|      0.0|After finding out...|[after, finding, ...|[finding, whats, ...|(1000,[11,111,133...|(1000,[11,111,133...|\n",
            "|      0.0|After having REAL...|[after, having, r...|[real, lichee, te...|(1000,[61,79,116,...|(1000,[61,79,116,...|\n",
            "|      0.0|After having my v...|[after, having, m...|[vet, look, ingre...|(1000,[10,23,38,4...|(1000,[10,23,38,4...|\n",
            "|      0.0|After reading all...|[after, reading, ...|[reading, great, ...|(1000,[0,30,31,37...|(1000,[0,30,31,37...|\n",
            "|      0.0|After reading rev...|[after, reading, ...|[reading, reviews...|(1000,[48,402,473...|(1000,[48,402,473...|\n",
            "|      0.0|After reading rev...|[after, reading, ...|[reading, reviews...|(1000,[11,12,15,3...|(1000,[11,12,15,3...|\n",
            "|      0.0|After reading the...|[after, reading, ...|[reading, previou...|(1000,[45,49,58,7...|(1000,[45,49,58,7...|\n",
            "|      0.0|After reading the...|[after, reading, ...|[reading, reviews...|(1000,[38,45,55,8...|(1000,[38,45,55,8...|\n",
            "|      0.0|After spending on...|[after, spending,...|[spending, shippi...|(1000,[3,61,65,20...|(1000,[3,61,65,20...|\n",
            "|      0.0|After the disappo...|[after, the, disa...|[disappointment, ...|(1000,[3,51,55,58...|(1000,[3,51,55,58...|\n",
            "+---------+--------------------+--------------------+--------------------+--------------------+--------------------+\n",
            "only showing top 20 rows"
          ]
        }
      ],
      "source": [
        "# apply fittedPipeline to train_df\n",
        "train_df = fittedPipeline.transform(train_df)\n",
        "train_df.show()"
      ]
    },
    {
      "cell_type": "code",
      "execution_count": null,
      "metadata": {
        "colab": {
          "base_uri": "https://localhost:8080/",
          "referenced_widgets": [
            "c79ef142c1944482a0837614dea68051",
            ""
          ]
        },
        "execution": {
          "iopub.execute_input": "2022-06-09T18:01:54.964121Z",
          "iopub.status.busy": "2022-06-09T18:01:54.963294Z",
          "iopub.status.idle": "2022-06-09T18:02:04.332198Z",
          "shell.execute_reply": "2022-06-09T18:02:04.331142Z",
          "shell.execute_reply.started": "2022-06-09T18:01:54.964067Z"
        },
        "id": "g8n6EVRFw2QD",
        "outputId": "e712febf-a19d-4df4-d1b1-c84e13bb2743",
        "tags": []
      },
      "outputs": [
        {
          "data": {
            "application/vnd.jupyter.widget-view+json": {
              "model_id": "c79ef142c1944482a0837614dea68051",
              "version_major": 2,
              "version_minor": 0
            },
            "text/plain": [
              "VBox()"
            ]
          },
          "metadata": {},
          "output_type": "display_data"
        },
        {
          "data": {
            "application/vnd.jupyter.widget-view+json": {
              "model_id": "",
              "version_major": 2,
              "version_minor": 0
            },
            "text/plain": [
              "FloatProgress(value=0.0, bar_style='info', description='Progress:', layout=Layout(height='25px', width='50%'),…"
            ]
          },
          "metadata": {},
          "output_type": "display_data"
        },
        {
          "name": "stdout",
          "output_type": "stream",
          "text": [
            "+---------+--------------------+--------------------+--------------------+--------------------+--------------------+\n",
            "|Sentiment|                Text|               Words|       FilteredWords|               TFOut|              IDFOut|\n",
            "+---------+--------------------+--------------------+--------------------+--------------------+--------------------+\n",
            "|      0.0|A big lover of il...|[a, big, lover, o...|[big, lover, illy...|(1000,[23,38,44,4...|(1000,[23,38,44,4...|\n",
            "|      0.0|A couple of weeks...|[a, couple, of, w...|[couple, weeks, t...|(1000,[10,26,48,1...|(1000,[10,26,48,1...|\n",
            "|      0.0|A short backgroun...|[a, short, backgr...|[short, backgroun...|(1000,[38,73,89,9...|(1000,[38,73,89,9...|\n",
            "|      0.0|A warning should ...|[a, warning, shou...|[warning, placed,...|(1000,[9,14,30,48...|(1000,[9,14,30,48...|\n",
            "|      0.0|AM I CRAZY OR ARE...|[am, i, crazy, or...|[crazy, really, c...|(1000,[51,112,139...|(1000,[51,112,139...|\n",
            "|      0.0|AVOID AT ALL COST...|[avoid, at, all, ...|[avoid, cost, cof...|(1000,[7,9,11,30,...|(1000,[7,9,11,30,...|\n",
            "|      0.0|After reading all...|[after, reading, ...|[reading, positiv...|(1000,[1,2,16,43,...|(1000,[1,2,16,43,...|\n",
            "|      0.0|After reading the...|[after, reading, ...|[reading, reviews...|(1000,[35,42,112,...|(1000,[35,42,112,...|\n",
            "|      0.0|After reading the...|[after, reading, ...|[reading, reviews...|(1000,[55,150,157...|(1000,[55,150,157...|\n",
            "|      0.0|All I can say is ...|[all, i, can, say...|[say, wow, kale, ...|(1000,[38,48,125,...|(1000,[38,48,125,...|\n",
            "|      0.0|All of the positi...|[all, of, the, po...|[positive, star, ...|(1000,[1,18,23,40...|(1000,[1,18,23,40...|\n",
            "|      0.0|Although the cand...|[although, the, c...|[although, candy,...|(1000,[103,165,19...|(1000,[103,165,19...|\n",
            "|      0.0|Although the desc...|[although, the, d...|[although, descri...|(1000,[22,80,115,...|(1000,[22,80,115,...|\n",
            "|      0.0|Although the fron...|[although, the, f...|[although, front,...|(1000,[48,67,112,...|(1000,[48,67,112,...|\n",
            "|      0.0|Amazon kindly ref...|[amazon, kindly, ...|[amazon, kindly, ...|(1000,[0,11,34,54...|(1000,[0,11,34,54...|\n",
            "|      0.0|As a previous rev...|[as, a, previous,...|[previous, review...|(1000,[5,67,80,13...|(1000,[5,67,80,13...|\n",
            "|      0.0|As expressed by p...|[as, expressed, b...|[expressed, previ...|(1000,[3,15,135,1...|(1000,[3,15,135,1...|\n",
            "|      0.0|As soon as I dump...|[as, soon, as, i,...|[soon, dumped, se...|(1000,[10,21,29,3...|(1000,[10,21,29,3...|\n",
            "|      0.0|Barry is Farm usu...|[barry, is, farm,...|[barry, farm, usu...|(1000,[2,116,133,...|(1000,[2,116,133,...|\n",
            "|      0.0|Because your base...|[because, your, b...|[baseline, tastes...|(1000,[15,29,44,5...|(1000,[15,29,44,5...|\n",
            "+---------+--------------------+--------------------+--------------------+--------------------+--------------------+\n",
            "only showing top 20 rows"
          ]
        }
      ],
      "source": [
        "# apply fittedPipeline to test_df\n",
        "test_df = fittedPipeline.transform(test_df)\n",
        "test_df.show()"
      ]
    },
    {
      "cell_type": "markdown",
      "metadata": {
        "id": "9IfOyF9Z18kO"
      },
      "source": [
        "## 4. Modeling"
      ]
    },
    {
      "cell_type": "markdown",
      "metadata": {
        "id": "xqT3HWvzfr1h"
      },
      "source": [
        "LogisticRegression:\n",
        "* Fast\n",
        "* Higher accuracy for high dimensional data"
      ]
    },
    {
      "cell_type": "code",
      "execution_count": null,
      "metadata": {
        "id": "vKu5XyCt01Jj"
      },
      "outputs": [],
      "source": [
        "lr = LogisticRegression(labelCol=\"Sentiment\", featuresCol=\"IDFOut\")\n",
        "grid = ParamGridBuilder() \\\n",
        "  .addGrid(lr.elasticNetParam , [0.0, 0.1, 0.2]) \\\n",
        "  .addGrid(lr.regParam, [0.1, 0.2, 0.3]) \\\n",
        "  .addGrid(lr.maxIter, [5, 10, 20]) \\\n",
        "  .build()\n",
        "evaluator = BinaryClassificationEvaluator(labelCol=\"Sentiment\", metricName=\"areaUnderROC\", numBins=0)\n",
        "crossValidator = CrossValidator(estimator=lr, \n",
        "                                evaluator=evaluator, \n",
        "                                estimatorParamMaps=grid, \n",
        "                                numFolds=5)\n",
        "cv = crossValidator.fit(train_df)"
      ]
    },
    {
      "cell_type": "code",
      "execution_count": null,
      "metadata": {
        "id": "wPAW2LIJYsCN"
      },
      "outputs": [],
      "source": [
        "best_model = cv.bestModel"
      ]
    },
    {
      "cell_type": "code",
      "execution_count": null,
      "metadata": {
        "colab": {
          "base_uri": "https://localhost:8080/"
        },
        "id": "BwG1QuCo791n",
        "outputId": "40148f8b-70fe-41b0-c8b1-302c0385a81f"
      },
      "outputs": [
        {
          "name": "stdout",
          "output_type": "stream",
          "text": [
            "0.0\n",
            "0.1\n",
            "10\n"
          ]
        }
      ],
      "source": [
        "print(best_model._java_obj.getElasticNetParam())\n",
        "print(best_model._java_obj.getRegParam())\n",
        "print(best_model._java_obj.getMaxIter())"
      ]
    },
    {
      "cell_type": "code",
      "execution_count": null,
      "metadata": {
        "execution": {
          "iopub.execute_input": "2022-06-09T18:02:04.334452Z",
          "iopub.status.busy": "2022-06-09T18:02:04.333844Z",
          "iopub.status.idle": "2022-06-09T18:04:16.422377Z",
          "shell.execute_reply": "2022-06-09T18:04:16.421230Z",
          "shell.execute_reply.started": "2022-06-09T18:02:04.334401Z"
        },
        "tags": [],
        "colab": {
          "referenced_widgets": [
            "2fe00c59f55e4acc9e9528406c79b1cf",
            ""
          ]
        },
        "id": "38YNrQDofr1l",
        "outputId": "7e412d45-a5af-487a-bf31-384dcb922d2f"
      },
      "outputs": [
        {
          "data": {
            "application/vnd.jupyter.widget-view+json": {
              "model_id": "2fe00c59f55e4acc9e9528406c79b1cf",
              "version_major": 2,
              "version_minor": 0
            },
            "text/plain": [
              "VBox()"
            ]
          },
          "metadata": {},
          "output_type": "display_data"
        },
        {
          "data": {
            "application/vnd.jupyter.widget-view+json": {
              "model_id": "",
              "version_major": 2,
              "version_minor": 0
            },
            "text/plain": [
              "FloatProgress(value=0.0, bar_style='info', description='Progress:', layout=Layout(height='25px', width='50%'),…"
            ]
          },
          "metadata": {},
          "output_type": "display_data"
        }
      ],
      "source": [
        "lr = LogisticRegression(labelCol=\"Sentiment\", featuresCol=\"IDFOut\", elasticNetParam=0.0, regParam=0.1, maxIter=10)\n",
        "best_model = lr.fit(train_df)"
      ]
    },
    {
      "cell_type": "markdown",
      "metadata": {
        "id": "6PJY2ucX2MAa"
      },
      "source": [
        "## 5. Evaluation"
      ]
    },
    {
      "cell_type": "code",
      "execution_count": null,
      "metadata": {
        "colab": {
          "base_uri": "https://localhost:8080/",
          "referenced_widgets": [
            "d180fbcc5a47412ab359787ce8d897d6",
            ""
          ]
        },
        "execution": {
          "iopub.execute_input": "2022-06-09T18:04:16.424217Z",
          "iopub.status.busy": "2022-06-09T18:04:16.423987Z",
          "iopub.status.idle": "2022-06-09T18:04:25.981099Z",
          "shell.execute_reply": "2022-06-09T18:04:25.979929Z",
          "shell.execute_reply.started": "2022-06-09T18:04:16.424186Z"
        },
        "id": "mARVzqd19dwA",
        "outputId": "7fba849c-bba6-4f76-aa16-462f31c3ed2a",
        "tags": []
      },
      "outputs": [
        {
          "data": {
            "application/vnd.jupyter.widget-view+json": {
              "model_id": "d180fbcc5a47412ab359787ce8d897d6",
              "version_major": 2,
              "version_minor": 0
            },
            "text/plain": [
              "VBox()"
            ]
          },
          "metadata": {},
          "output_type": "display_data"
        },
        {
          "data": {
            "application/vnd.jupyter.widget-view+json": {
              "model_id": "",
              "version_major": 2,
              "version_minor": 0
            },
            "text/plain": [
              "FloatProgress(value=0.0, bar_style='info', description='Progress:', layout=Layout(height='25px', width='50%'),…"
            ]
          },
          "metadata": {},
          "output_type": "display_data"
        },
        {
          "name": "stdout",
          "output_type": "stream",
          "text": [
            "+---------+--------------------+--------------------+--------------------+--------------------+--------------------+--------------------+--------------------+----------+\n",
            "|Sentiment|                Text|               Words|       FilteredWords|               TFOut|              IDFOut|       rawPrediction|         probability|prediction|\n",
            "+---------+--------------------+--------------------+--------------------+--------------------+--------------------+--------------------+--------------------+----------+\n",
            "|      0.0|A big lover of il...|[a, big, lover, o...|[big, lover, illy...|(1000,[23,38,44,4...|(1000,[23,38,44,4...|[-2.6005511799337...|[0.06910295576337...|       1.0|\n",
            "|      0.0|A couple of weeks...|[a, couple, of, w...|[couple, weeks, t...|(1000,[10,26,48,1...|(1000,[10,26,48,1...|[-0.4964367489271...|[0.37837841069286...|       1.0|\n",
            "|      0.0|A short backgroun...|[a, short, backgr...|[short, backgroun...|(1000,[38,73,89,9...|(1000,[38,73,89,9...|[-1.2063476602477...|[0.23034792828431...|       1.0|\n",
            "|      0.0|A warning should ...|[a, warning, shou...|[warning, placed,...|(1000,[9,14,30,48...|(1000,[9,14,30,48...|[0.25457869055422...|[0.56330314997490...|       0.0|\n",
            "|      0.0|AM I CRAZY OR ARE...|[am, i, crazy, or...|[crazy, really, c...|(1000,[51,112,139...|(1000,[51,112,139...|[-1.7440044292930...|[0.14880501155562...|       1.0|\n",
            "|      0.0|AVOID AT ALL COST...|[avoid, at, all, ...|[avoid, cost, cof...|(1000,[7,9,11,30,...|(1000,[7,9,11,30,...|[-0.4582234504168...|[0.38740735532497...|       1.0|\n",
            "|      0.0|After reading all...|[after, reading, ...|[reading, positiv...|(1000,[1,2,16,43,...|(1000,[1,2,16,43,...|[-0.4242835630474...|[0.39549218685255...|       1.0|\n",
            "|      0.0|After reading the...|[after, reading, ...|[reading, reviews...|(1000,[35,42,112,...|(1000,[35,42,112,...|[-0.5510569173290...|[0.36561923087238...|       1.0|\n",
            "|      0.0|After reading the...|[after, reading, ...|[reading, reviews...|(1000,[55,150,157...|(1000,[55,150,157...|[-0.4955816972240...|[0.37857954675989...|       1.0|\n",
            "|      0.0|All I can say is ...|[all, i, can, say...|[say, wow, kale, ...|(1000,[38,48,125,...|(1000,[38,48,125,...|[-1.0683354171828...|[0.25571977066293...|       1.0|\n",
            "|      0.0|All of the positi...|[all, of, the, po...|[positive, star, ...|(1000,[1,18,23,40...|(1000,[1,18,23,40...|[-1.7724546428179...|[0.14523733566436...|       1.0|\n",
            "|      0.0|Although the cand...|[although, the, c...|[although, candy,...|(1000,[103,165,19...|(1000,[103,165,19...|[-1.4833944320951...|[0.18491525775655...|       1.0|\n",
            "|      0.0|Although the desc...|[although, the, d...|[although, descri...|(1000,[22,80,115,...|(1000,[22,80,115,...|[-0.3344686281823...|[0.41715373599063...|       1.0|\n",
            "|      0.0|Although the fron...|[although, the, f...|[although, front,...|(1000,[48,67,112,...|(1000,[48,67,112,...|[-1.5981306896781...|[0.16824303894048...|       1.0|\n",
            "|      0.0|Amazon kindly ref...|[amazon, kindly, ...|[amazon, kindly, ...|(1000,[0,11,34,54...|(1000,[0,11,34,54...|[-0.6138086575689...|[0.35119088194568...|       1.0|\n",
            "|      0.0|As a previous rev...|[as, a, previous,...|[previous, review...|(1000,[5,67,80,13...|(1000,[5,67,80,13...|[-1.1019011668625...|[0.24938384251067...|       1.0|\n",
            "|      0.0|As expressed by p...|[as, expressed, b...|[expressed, previ...|(1000,[3,15,135,1...|(1000,[3,15,135,1...|[0.42439427245229...|[0.60453428103721...|       0.0|\n",
            "|      0.0|As soon as I dump...|[as, soon, as, i,...|[soon, dumped, se...|(1000,[10,21,29,3...|(1000,[10,21,29,3...|[-0.2714622237682...|[0.43254815650876...|       1.0|\n",
            "|      0.0|Barry is Farm usu...|[barry, is, farm,...|[barry, farm, usu...|(1000,[2,116,133,...|(1000,[2,116,133,...|[-0.8417594448164...|[0.30116435402886...|       1.0|\n",
            "|      0.0|Because your base...|[because, your, b...|[baseline, tastes...|(1000,[15,29,44,5...|(1000,[15,29,44,5...|[-1.7612453444061...|[0.14663443780809...|       1.0|\n",
            "+---------+--------------------+--------------------+--------------------+--------------------+--------------------+--------------------+--------------------+----------+\n",
            "only showing top 20 rows"
          ]
        }
      ],
      "source": [
        "prediction = best_model.transform(test_df)\n",
        "prediction.show()"
      ]
    },
    {
      "cell_type": "code",
      "execution_count": null,
      "metadata": {
        "execution": {
          "iopub.execute_input": "2022-06-09T18:04:25.983459Z",
          "iopub.status.busy": "2022-06-09T18:04:25.982840Z",
          "iopub.status.idle": "2022-06-09T18:04:26.072452Z",
          "shell.execute_reply": "2022-06-09T18:04:26.071543Z",
          "shell.execute_reply.started": "2022-06-09T18:04:25.983408Z"
        },
        "tags": [],
        "colab": {
          "referenced_widgets": [
            "7ac08691bda143299082093b8305489c",
            ""
          ]
        },
        "id": "w_aIJk53fr1n",
        "outputId": "f61fa5a7-68d1-45c1-d15e-a36bc83c796c"
      },
      "outputs": [
        {
          "data": {
            "application/vnd.jupyter.widget-view+json": {
              "model_id": "7ac08691bda143299082093b8305489c",
              "version_major": 2,
              "version_minor": 0
            },
            "text/plain": [
              "VBox()"
            ]
          },
          "metadata": {},
          "output_type": "display_data"
        },
        {
          "data": {
            "application/vnd.jupyter.widget-view+json": {
              "model_id": "",
              "version_major": 2,
              "version_minor": 0
            },
            "text/plain": [
              "FloatProgress(value=0.0, bar_style='info', description='Progress:', layout=Layout(height='25px', width='50%'),…"
            ]
          },
          "metadata": {},
          "output_type": "display_data"
        }
      ],
      "source": [
        "evaluator = BinaryClassificationEvaluator(labelCol=\"Sentiment\", metricName=\"areaUnderROC\", numBins=0)"
      ]
    },
    {
      "cell_type": "code",
      "execution_count": null,
      "metadata": {
        "colab": {
          "base_uri": "https://localhost:8080/",
          "referenced_widgets": [
            "96a94c6e898b4bee92b910715e091df2",
            ""
          ]
        },
        "execution": {
          "iopub.execute_input": "2022-06-09T18:04:26.075487Z",
          "iopub.status.busy": "2022-06-09T18:04:26.074851Z",
          "iopub.status.idle": "2022-06-09T18:05:31.802005Z",
          "shell.execute_reply": "2022-06-09T18:05:31.801149Z",
          "shell.execute_reply.started": "2022-06-09T18:04:26.075429Z"
        },
        "id": "mL0koPdUJsJt",
        "outputId": "b69aa246-f653-4fb7-b7ed-cf4a6056ba12",
        "tags": []
      },
      "outputs": [
        {
          "data": {
            "application/vnd.jupyter.widget-view+json": {
              "model_id": "96a94c6e898b4bee92b910715e091df2",
              "version_major": 2,
              "version_minor": 0
            },
            "text/plain": [
              "VBox()"
            ]
          },
          "metadata": {},
          "output_type": "display_data"
        },
        {
          "data": {
            "application/vnd.jupyter.widget-view+json": {
              "model_id": "",
              "version_major": 2,
              "version_minor": 0
            },
            "text/plain": [
              "FloatProgress(value=0.0, bar_style='info', description='Progress:', layout=Layout(height='25px', width='50%'),…"
            ]
          },
          "metadata": {},
          "output_type": "display_data"
        },
        {
          "name": "stdout",
          "output_type": "stream",
          "text": [
            "0.8634534587963756"
          ]
        }
      ],
      "source": [
        "print(evaluator.evaluate(prediction))"
      ]
    },
    {
      "cell_type": "markdown",
      "metadata": {
        "id": "AlJjFpDK2OmL"
      },
      "source": [
        "## 6. Deployment\n"
      ]
    },
    {
      "cell_type": "code",
      "execution_count": null,
      "metadata": {
        "execution": {
          "iopub.execute_input": "2022-06-09T18:05:40.480473Z",
          "iopub.status.busy": "2022-06-09T18:05:40.480171Z",
          "iopub.status.idle": "2022-06-09T18:05:43.847453Z",
          "shell.execute_reply": "2022-06-09T18:05:43.846339Z",
          "shell.execute_reply.started": "2022-06-09T18:05:40.480430Z"
        },
        "id": "Ore2Iuni2J6H",
        "colab": {
          "referenced_widgets": [
            "8378ea71f23c405fa8119ccf797584a1",
            ""
          ]
        },
        "outputId": "6c8ff09a-129f-4a31-be6f-32cc185fa08f"
      },
      "outputs": [
        {
          "data": {
            "application/vnd.jupyter.widget-view+json": {
              "model_id": "8378ea71f23c405fa8119ccf797584a1",
              "version_major": 2,
              "version_minor": 0
            },
            "text/plain": [
              "VBox()"
            ]
          },
          "metadata": {},
          "output_type": "display_data"
        },
        {
          "data": {
            "application/vnd.jupyter.widget-view+json": {
              "model_id": "",
              "version_major": 2,
              "version_minor": 0
            },
            "text/plain": [
              "FloatProgress(value=0.0, bar_style='info', description='Progress:', layout=Layout(height='25px', width='50%'),…"
            ]
          },
          "metadata": {},
          "output_type": "display_data"
        }
      ],
      "source": [
        "best_model.save(MODEL_PATH)"
      ]
    },
    {
      "cell_type": "code",
      "execution_count": null,
      "metadata": {
        "execution": {
          "iopub.execute_input": "2022-06-09T18:05:43.850766Z",
          "iopub.status.busy": "2022-06-09T18:05:43.849459Z",
          "iopub.status.idle": "2022-06-09T18:06:23.462476Z",
          "shell.execute_reply": "2022-06-09T18:06:23.461498Z",
          "shell.execute_reply.started": "2022-06-09T18:05:43.850713Z"
        },
        "id": "nHOSjrIgHjiu",
        "colab": {
          "referenced_widgets": [
            "a84847c916b149d4bb227a7c78214366",
            ""
          ]
        },
        "outputId": "ed643ec8-0afe-4bff-a005-1316f4a83511"
      },
      "outputs": [
        {
          "data": {
            "application/vnd.jupyter.widget-view+json": {
              "model_id": "a84847c916b149d4bb227a7c78214366",
              "version_major": 2,
              "version_minor": 0
            },
            "text/plain": [
              "VBox()"
            ]
          },
          "metadata": {},
          "output_type": "display_data"
        },
        {
          "data": {
            "application/vnd.jupyter.widget-view+json": {
              "model_id": "",
              "version_major": 2,
              "version_minor": 0
            },
            "text/plain": [
              "FloatProgress(value=0.0, bar_style='info', description='Progress:', layout=Layout(height='25px', width='50%'),…"
            ]
          },
          "metadata": {},
          "output_type": "display_data"
        }
      ],
      "source": [
        "prediction.select([\"Text\", \"Sentiment\", \"prediction\"]).write.mode(\"overwrite\").csv(RESULT_PATH)"
      ]
    }
  ],
  "metadata": {
    "colab": {
      "collapsed_sections": [],
      "name": "Sentiment Prediction using CRISP-DM Methodology.ipynb",
      "provenance": []
    },
    "kernelspec": {
      "display_name": "PySpark",
      "language": "python",
      "name": "pysparkkernel"
    },
    "language_info": {
      "codemirror_mode": {
        "name": "python",
        "version": 3
      },
      "file_extension": ".py",
      "mimetype": "text/x-python",
      "name": "pyspark",
      "pygments_lexer": "python3"
    }
  },
  "nbformat": 4,
  "nbformat_minor": 0
}